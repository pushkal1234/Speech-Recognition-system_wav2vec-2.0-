{
  "nbformat": 4,
  "nbformat_minor": 0,
  "metadata": {
    "colab": {
      "name": "Convin.ipynb",
      "provenance": [],
      "collapsed_sections": [],
      "machine_shape": "hm",
      "authorship_tag": "ABX9TyMAdeK0qZFdI3O3QVhzIDcD",
      "include_colab_link": true
    },
    "kernelspec": {
      "display_name": "Python 3",
      "name": "python3"
    },
    "language_info": {
      "name": "python"
    },
    "widgets": {
      "application/vnd.jupyter.widget-state+json": {
        "b37397fbd89d4a859dab93a200ed8ea2": {
          "model_module": "@jupyter-widgets/controls",
          "model_name": "HBoxModel",
          "state": {
            "_view_name": "HBoxView",
            "_dom_classes": [],
            "_model_name": "HBoxModel",
            "_view_module": "@jupyter-widgets/controls",
            "_model_module_version": "1.5.0",
            "_view_count": null,
            "_view_module_version": "1.5.0",
            "box_style": "",
            "layout": "IPY_MODEL_43873bce19d74a2aa45571dc7d2920a8",
            "_model_module": "@jupyter-widgets/controls",
            "children": [
              "IPY_MODEL_7b84aafe7dad489391c37920eb8628a5",
              "IPY_MODEL_c0f868e64925423f845313f13c3a5535"
            ]
          }
        },
        "43873bce19d74a2aa45571dc7d2920a8": {
          "model_module": "@jupyter-widgets/base",
          "model_name": "LayoutModel",
          "state": {
            "_view_name": "LayoutView",
            "grid_template_rows": null,
            "right": null,
            "justify_content": null,
            "_view_module": "@jupyter-widgets/base",
            "overflow": null,
            "_model_module_version": "1.2.0",
            "_view_count": null,
            "flex_flow": null,
            "width": null,
            "min_width": null,
            "border": null,
            "align_items": null,
            "bottom": null,
            "_model_module": "@jupyter-widgets/base",
            "top": null,
            "grid_column": null,
            "overflow_y": null,
            "overflow_x": null,
            "grid_auto_flow": null,
            "grid_area": null,
            "grid_template_columns": null,
            "flex": null,
            "_model_name": "LayoutModel",
            "justify_items": null,
            "grid_row": null,
            "max_height": null,
            "align_content": null,
            "visibility": null,
            "align_self": null,
            "height": null,
            "min_height": null,
            "padding": null,
            "grid_auto_rows": null,
            "grid_gap": null,
            "max_width": null,
            "order": null,
            "_view_module_version": "1.2.0",
            "grid_template_areas": null,
            "object_position": null,
            "object_fit": null,
            "grid_auto_columns": null,
            "margin": null,
            "display": null,
            "left": null
          }
        },
        "7b84aafe7dad489391c37920eb8628a5": {
          "model_module": "@jupyter-widgets/controls",
          "model_name": "FloatProgressModel",
          "state": {
            "_view_name": "ProgressView",
            "style": "IPY_MODEL_a06da3d86e2c4e42b9f0342c2d3504ed",
            "_dom_classes": [],
            "description": "Downloading: 100%",
            "_model_name": "FloatProgressModel",
            "bar_style": "success",
            "max": 291,
            "_view_module": "@jupyter-widgets/controls",
            "_model_module_version": "1.5.0",
            "value": 291,
            "_view_count": null,
            "_view_module_version": "1.5.0",
            "orientation": "horizontal",
            "min": 0,
            "description_tooltip": null,
            "_model_module": "@jupyter-widgets/controls",
            "layout": "IPY_MODEL_7fdd6650515946eb9350457b51a3d2e6"
          }
        },
        "c0f868e64925423f845313f13c3a5535": {
          "model_module": "@jupyter-widgets/controls",
          "model_name": "HTMLModel",
          "state": {
            "_view_name": "HTMLView",
            "style": "IPY_MODEL_54833a04725d456eac122f38a40ce359",
            "_dom_classes": [],
            "description": "",
            "_model_name": "HTMLModel",
            "placeholder": "​",
            "_view_module": "@jupyter-widgets/controls",
            "_model_module_version": "1.5.0",
            "value": " 291/291 [00:00&lt;00:00, 310B/s]",
            "_view_count": null,
            "_view_module_version": "1.5.0",
            "description_tooltip": null,
            "_model_module": "@jupyter-widgets/controls",
            "layout": "IPY_MODEL_dd490140c8c746a798e7715267875f34"
          }
        },
        "a06da3d86e2c4e42b9f0342c2d3504ed": {
          "model_module": "@jupyter-widgets/controls",
          "model_name": "ProgressStyleModel",
          "state": {
            "_view_name": "StyleView",
            "_model_name": "ProgressStyleModel",
            "description_width": "initial",
            "_view_module": "@jupyter-widgets/base",
            "_model_module_version": "1.5.0",
            "_view_count": null,
            "_view_module_version": "1.2.0",
            "bar_color": null,
            "_model_module": "@jupyter-widgets/controls"
          }
        },
        "7fdd6650515946eb9350457b51a3d2e6": {
          "model_module": "@jupyter-widgets/base",
          "model_name": "LayoutModel",
          "state": {
            "_view_name": "LayoutView",
            "grid_template_rows": null,
            "right": null,
            "justify_content": null,
            "_view_module": "@jupyter-widgets/base",
            "overflow": null,
            "_model_module_version": "1.2.0",
            "_view_count": null,
            "flex_flow": null,
            "width": null,
            "min_width": null,
            "border": null,
            "align_items": null,
            "bottom": null,
            "_model_module": "@jupyter-widgets/base",
            "top": null,
            "grid_column": null,
            "overflow_y": null,
            "overflow_x": null,
            "grid_auto_flow": null,
            "grid_area": null,
            "grid_template_columns": null,
            "flex": null,
            "_model_name": "LayoutModel",
            "justify_items": null,
            "grid_row": null,
            "max_height": null,
            "align_content": null,
            "visibility": null,
            "align_self": null,
            "height": null,
            "min_height": null,
            "padding": null,
            "grid_auto_rows": null,
            "grid_gap": null,
            "max_width": null,
            "order": null,
            "_view_module_version": "1.2.0",
            "grid_template_areas": null,
            "object_position": null,
            "object_fit": null,
            "grid_auto_columns": null,
            "margin": null,
            "display": null,
            "left": null
          }
        },
        "54833a04725d456eac122f38a40ce359": {
          "model_module": "@jupyter-widgets/controls",
          "model_name": "DescriptionStyleModel",
          "state": {
            "_view_name": "StyleView",
            "_model_name": "DescriptionStyleModel",
            "description_width": "",
            "_view_module": "@jupyter-widgets/base",
            "_model_module_version": "1.5.0",
            "_view_count": null,
            "_view_module_version": "1.2.0",
            "_model_module": "@jupyter-widgets/controls"
          }
        },
        "dd490140c8c746a798e7715267875f34": {
          "model_module": "@jupyter-widgets/base",
          "model_name": "LayoutModel",
          "state": {
            "_view_name": "LayoutView",
            "grid_template_rows": null,
            "right": null,
            "justify_content": null,
            "_view_module": "@jupyter-widgets/base",
            "overflow": null,
            "_model_module_version": "1.2.0",
            "_view_count": null,
            "flex_flow": null,
            "width": null,
            "min_width": null,
            "border": null,
            "align_items": null,
            "bottom": null,
            "_model_module": "@jupyter-widgets/base",
            "top": null,
            "grid_column": null,
            "overflow_y": null,
            "overflow_x": null,
            "grid_auto_flow": null,
            "grid_area": null,
            "grid_template_columns": null,
            "flex": null,
            "_model_name": "LayoutModel",
            "justify_items": null,
            "grid_row": null,
            "max_height": null,
            "align_content": null,
            "visibility": null,
            "align_self": null,
            "height": null,
            "min_height": null,
            "padding": null,
            "grid_auto_rows": null,
            "grid_gap": null,
            "max_width": null,
            "order": null,
            "_view_module_version": "1.2.0",
            "grid_template_areas": null,
            "object_position": null,
            "object_fit": null,
            "grid_auto_columns": null,
            "margin": null,
            "display": null,
            "left": null
          }
        },
        "48aa0111072e45e99296c10a1e04f799": {
          "model_module": "@jupyter-widgets/controls",
          "model_name": "HBoxModel",
          "state": {
            "_view_name": "HBoxView",
            "_dom_classes": [],
            "_model_name": "HBoxModel",
            "_view_module": "@jupyter-widgets/controls",
            "_model_module_version": "1.5.0",
            "_view_count": null,
            "_view_module_version": "1.5.0",
            "box_style": "",
            "layout": "IPY_MODEL_11e9fd7b194d4db6b91a20910aea7928",
            "_model_module": "@jupyter-widgets/controls",
            "children": [
              "IPY_MODEL_1663bb748b8d446ea83ef92c7b38445d",
              "IPY_MODEL_07c43963d1b94d019c77833338c90d38"
            ]
          }
        },
        "11e9fd7b194d4db6b91a20910aea7928": {
          "model_module": "@jupyter-widgets/base",
          "model_name": "LayoutModel",
          "state": {
            "_view_name": "LayoutView",
            "grid_template_rows": null,
            "right": null,
            "justify_content": null,
            "_view_module": "@jupyter-widgets/base",
            "overflow": null,
            "_model_module_version": "1.2.0",
            "_view_count": null,
            "flex_flow": null,
            "width": null,
            "min_width": null,
            "border": null,
            "align_items": null,
            "bottom": null,
            "_model_module": "@jupyter-widgets/base",
            "top": null,
            "grid_column": null,
            "overflow_y": null,
            "overflow_x": null,
            "grid_auto_flow": null,
            "grid_area": null,
            "grid_template_columns": null,
            "flex": null,
            "_model_name": "LayoutModel",
            "justify_items": null,
            "grid_row": null,
            "max_height": null,
            "align_content": null,
            "visibility": null,
            "align_self": null,
            "height": null,
            "min_height": null,
            "padding": null,
            "grid_auto_rows": null,
            "grid_gap": null,
            "max_width": null,
            "order": null,
            "_view_module_version": "1.2.0",
            "grid_template_areas": null,
            "object_position": null,
            "object_fit": null,
            "grid_auto_columns": null,
            "margin": null,
            "display": null,
            "left": null
          }
        },
        "1663bb748b8d446ea83ef92c7b38445d": {
          "model_module": "@jupyter-widgets/controls",
          "model_name": "FloatProgressModel",
          "state": {
            "_view_name": "ProgressView",
            "style": "IPY_MODEL_f8501e3af6344f44b076d3babf63364f",
            "_dom_classes": [],
            "description": "Downloading: 100%",
            "_model_name": "FloatProgressModel",
            "bar_style": "success",
            "max": 163,
            "_view_module": "@jupyter-widgets/controls",
            "_model_module_version": "1.5.0",
            "value": 163,
            "_view_count": null,
            "_view_module_version": "1.5.0",
            "orientation": "horizontal",
            "min": 0,
            "description_tooltip": null,
            "_model_module": "@jupyter-widgets/controls",
            "layout": "IPY_MODEL_325d5fb2f575434793662e8e77d477ef"
          }
        },
        "07c43963d1b94d019c77833338c90d38": {
          "model_module": "@jupyter-widgets/controls",
          "model_name": "HTMLModel",
          "state": {
            "_view_name": "HTMLView",
            "style": "IPY_MODEL_d134963c1fcb4cfca4628146bcd47e52",
            "_dom_classes": [],
            "description": "",
            "_model_name": "HTMLModel",
            "placeholder": "​",
            "_view_module": "@jupyter-widgets/controls",
            "_model_module_version": "1.5.0",
            "value": " 163/163 [00:00&lt;00:00, 261B/s]",
            "_view_count": null,
            "_view_module_version": "1.5.0",
            "description_tooltip": null,
            "_model_module": "@jupyter-widgets/controls",
            "layout": "IPY_MODEL_bba43ea38dd44be3836a88c51874266d"
          }
        },
        "f8501e3af6344f44b076d3babf63364f": {
          "model_module": "@jupyter-widgets/controls",
          "model_name": "ProgressStyleModel",
          "state": {
            "_view_name": "StyleView",
            "_model_name": "ProgressStyleModel",
            "description_width": "initial",
            "_view_module": "@jupyter-widgets/base",
            "_model_module_version": "1.5.0",
            "_view_count": null,
            "_view_module_version": "1.2.0",
            "bar_color": null,
            "_model_module": "@jupyter-widgets/controls"
          }
        },
        "325d5fb2f575434793662e8e77d477ef": {
          "model_module": "@jupyter-widgets/base",
          "model_name": "LayoutModel",
          "state": {
            "_view_name": "LayoutView",
            "grid_template_rows": null,
            "right": null,
            "justify_content": null,
            "_view_module": "@jupyter-widgets/base",
            "overflow": null,
            "_model_module_version": "1.2.0",
            "_view_count": null,
            "flex_flow": null,
            "width": null,
            "min_width": null,
            "border": null,
            "align_items": null,
            "bottom": null,
            "_model_module": "@jupyter-widgets/base",
            "top": null,
            "grid_column": null,
            "overflow_y": null,
            "overflow_x": null,
            "grid_auto_flow": null,
            "grid_area": null,
            "grid_template_columns": null,
            "flex": null,
            "_model_name": "LayoutModel",
            "justify_items": null,
            "grid_row": null,
            "max_height": null,
            "align_content": null,
            "visibility": null,
            "align_self": null,
            "height": null,
            "min_height": null,
            "padding": null,
            "grid_auto_rows": null,
            "grid_gap": null,
            "max_width": null,
            "order": null,
            "_view_module_version": "1.2.0",
            "grid_template_areas": null,
            "object_position": null,
            "object_fit": null,
            "grid_auto_columns": null,
            "margin": null,
            "display": null,
            "left": null
          }
        },
        "d134963c1fcb4cfca4628146bcd47e52": {
          "model_module": "@jupyter-widgets/controls",
          "model_name": "DescriptionStyleModel",
          "state": {
            "_view_name": "StyleView",
            "_model_name": "DescriptionStyleModel",
            "description_width": "",
            "_view_module": "@jupyter-widgets/base",
            "_model_module_version": "1.5.0",
            "_view_count": null,
            "_view_module_version": "1.2.0",
            "_model_module": "@jupyter-widgets/controls"
          }
        },
        "bba43ea38dd44be3836a88c51874266d": {
          "model_module": "@jupyter-widgets/base",
          "model_name": "LayoutModel",
          "state": {
            "_view_name": "LayoutView",
            "grid_template_rows": null,
            "right": null,
            "justify_content": null,
            "_view_module": "@jupyter-widgets/base",
            "overflow": null,
            "_model_module_version": "1.2.0",
            "_view_count": null,
            "flex_flow": null,
            "width": null,
            "min_width": null,
            "border": null,
            "align_items": null,
            "bottom": null,
            "_model_module": "@jupyter-widgets/base",
            "top": null,
            "grid_column": null,
            "overflow_y": null,
            "overflow_x": null,
            "grid_auto_flow": null,
            "grid_area": null,
            "grid_template_columns": null,
            "flex": null,
            "_model_name": "LayoutModel",
            "justify_items": null,
            "grid_row": null,
            "max_height": null,
            "align_content": null,
            "visibility": null,
            "align_self": null,
            "height": null,
            "min_height": null,
            "padding": null,
            "grid_auto_rows": null,
            "grid_gap": null,
            "max_width": null,
            "order": null,
            "_view_module_version": "1.2.0",
            "grid_template_areas": null,
            "object_position": null,
            "object_fit": null,
            "grid_auto_columns": null,
            "margin": null,
            "display": null,
            "left": null
          }
        },
        "36c7d73c864b423096f7603b69c17dde": {
          "model_module": "@jupyter-widgets/controls",
          "model_name": "HBoxModel",
          "state": {
            "_view_name": "HBoxView",
            "_dom_classes": [],
            "_model_name": "HBoxModel",
            "_view_module": "@jupyter-widgets/controls",
            "_model_module_version": "1.5.0",
            "_view_count": null,
            "_view_module_version": "1.5.0",
            "box_style": "",
            "layout": "IPY_MODEL_82ce02d316bc4795ba8fbee70502a041",
            "_model_module": "@jupyter-widgets/controls",
            "children": [
              "IPY_MODEL_ceb1ea2c2620479dad4f1113accba6f7",
              "IPY_MODEL_ba5da8abc8ce438d8990b9b6f8bcb3e0"
            ]
          }
        },
        "82ce02d316bc4795ba8fbee70502a041": {
          "model_module": "@jupyter-widgets/base",
          "model_name": "LayoutModel",
          "state": {
            "_view_name": "LayoutView",
            "grid_template_rows": null,
            "right": null,
            "justify_content": null,
            "_view_module": "@jupyter-widgets/base",
            "overflow": null,
            "_model_module_version": "1.2.0",
            "_view_count": null,
            "flex_flow": null,
            "width": null,
            "min_width": null,
            "border": null,
            "align_items": null,
            "bottom": null,
            "_model_module": "@jupyter-widgets/base",
            "top": null,
            "grid_column": null,
            "overflow_y": null,
            "overflow_x": null,
            "grid_auto_flow": null,
            "grid_area": null,
            "grid_template_columns": null,
            "flex": null,
            "_model_name": "LayoutModel",
            "justify_items": null,
            "grid_row": null,
            "max_height": null,
            "align_content": null,
            "visibility": null,
            "align_self": null,
            "height": null,
            "min_height": null,
            "padding": null,
            "grid_auto_rows": null,
            "grid_gap": null,
            "max_width": null,
            "order": null,
            "_view_module_version": "1.2.0",
            "grid_template_areas": null,
            "object_position": null,
            "object_fit": null,
            "grid_auto_columns": null,
            "margin": null,
            "display": null,
            "left": null
          }
        },
        "ceb1ea2c2620479dad4f1113accba6f7": {
          "model_module": "@jupyter-widgets/controls",
          "model_name": "FloatProgressModel",
          "state": {
            "_view_name": "ProgressView",
            "style": "IPY_MODEL_a2618e3b23484b09af12c81609789a53",
            "_dom_classes": [],
            "description": "Downloading: 100%",
            "_model_name": "FloatProgressModel",
            "bar_style": "success",
            "max": 85,
            "_view_module": "@jupyter-widgets/controls",
            "_model_module_version": "1.5.0",
            "value": 85,
            "_view_count": null,
            "_view_module_version": "1.5.0",
            "orientation": "horizontal",
            "min": 0,
            "description_tooltip": null,
            "_model_module": "@jupyter-widgets/controls",
            "layout": "IPY_MODEL_8f258d74c5864238a2fff43a34db07fc"
          }
        },
        "ba5da8abc8ce438d8990b9b6f8bcb3e0": {
          "model_module": "@jupyter-widgets/controls",
          "model_name": "HTMLModel",
          "state": {
            "_view_name": "HTMLView",
            "style": "IPY_MODEL_6632901f870744f1860fa4466455fad0",
            "_dom_classes": [],
            "description": "",
            "_model_name": "HTMLModel",
            "placeholder": "​",
            "_view_module": "@jupyter-widgets/controls",
            "_model_module_version": "1.5.0",
            "value": " 85.0/85.0 [00:00&lt;00:00, 486B/s]",
            "_view_count": null,
            "_view_module_version": "1.5.0",
            "description_tooltip": null,
            "_model_module": "@jupyter-widgets/controls",
            "layout": "IPY_MODEL_2f0bf2469d27419681b894587b268265"
          }
        },
        "a2618e3b23484b09af12c81609789a53": {
          "model_module": "@jupyter-widgets/controls",
          "model_name": "ProgressStyleModel",
          "state": {
            "_view_name": "StyleView",
            "_model_name": "ProgressStyleModel",
            "description_width": "initial",
            "_view_module": "@jupyter-widgets/base",
            "_model_module_version": "1.5.0",
            "_view_count": null,
            "_view_module_version": "1.2.0",
            "bar_color": null,
            "_model_module": "@jupyter-widgets/controls"
          }
        },
        "8f258d74c5864238a2fff43a34db07fc": {
          "model_module": "@jupyter-widgets/base",
          "model_name": "LayoutModel",
          "state": {
            "_view_name": "LayoutView",
            "grid_template_rows": null,
            "right": null,
            "justify_content": null,
            "_view_module": "@jupyter-widgets/base",
            "overflow": null,
            "_model_module_version": "1.2.0",
            "_view_count": null,
            "flex_flow": null,
            "width": null,
            "min_width": null,
            "border": null,
            "align_items": null,
            "bottom": null,
            "_model_module": "@jupyter-widgets/base",
            "top": null,
            "grid_column": null,
            "overflow_y": null,
            "overflow_x": null,
            "grid_auto_flow": null,
            "grid_area": null,
            "grid_template_columns": null,
            "flex": null,
            "_model_name": "LayoutModel",
            "justify_items": null,
            "grid_row": null,
            "max_height": null,
            "align_content": null,
            "visibility": null,
            "align_self": null,
            "height": null,
            "min_height": null,
            "padding": null,
            "grid_auto_rows": null,
            "grid_gap": null,
            "max_width": null,
            "order": null,
            "_view_module_version": "1.2.0",
            "grid_template_areas": null,
            "object_position": null,
            "object_fit": null,
            "grid_auto_columns": null,
            "margin": null,
            "display": null,
            "left": null
          }
        },
        "6632901f870744f1860fa4466455fad0": {
          "model_module": "@jupyter-widgets/controls",
          "model_name": "DescriptionStyleModel",
          "state": {
            "_view_name": "StyleView",
            "_model_name": "DescriptionStyleModel",
            "description_width": "",
            "_view_module": "@jupyter-widgets/base",
            "_model_module_version": "1.5.0",
            "_view_count": null,
            "_view_module_version": "1.2.0",
            "_model_module": "@jupyter-widgets/controls"
          }
        },
        "2f0bf2469d27419681b894587b268265": {
          "model_module": "@jupyter-widgets/base",
          "model_name": "LayoutModel",
          "state": {
            "_view_name": "LayoutView",
            "grid_template_rows": null,
            "right": null,
            "justify_content": null,
            "_view_module": "@jupyter-widgets/base",
            "overflow": null,
            "_model_module_version": "1.2.0",
            "_view_count": null,
            "flex_flow": null,
            "width": null,
            "min_width": null,
            "border": null,
            "align_items": null,
            "bottom": null,
            "_model_module": "@jupyter-widgets/base",
            "top": null,
            "grid_column": null,
            "overflow_y": null,
            "overflow_x": null,
            "grid_auto_flow": null,
            "grid_area": null,
            "grid_template_columns": null,
            "flex": null,
            "_model_name": "LayoutModel",
            "justify_items": null,
            "grid_row": null,
            "max_height": null,
            "align_content": null,
            "visibility": null,
            "align_self": null,
            "height": null,
            "min_height": null,
            "padding": null,
            "grid_auto_rows": null,
            "grid_gap": null,
            "max_width": null,
            "order": null,
            "_view_module_version": "1.2.0",
            "grid_template_areas": null,
            "object_position": null,
            "object_fit": null,
            "grid_auto_columns": null,
            "margin": null,
            "display": null,
            "left": null
          }
        },
        "a8d261924ef64b40846a189576c3af6f": {
          "model_module": "@jupyter-widgets/controls",
          "model_name": "HBoxModel",
          "state": {
            "_view_name": "HBoxView",
            "_dom_classes": [],
            "_model_name": "HBoxModel",
            "_view_module": "@jupyter-widgets/controls",
            "_model_module_version": "1.5.0",
            "_view_count": null,
            "_view_module_version": "1.5.0",
            "box_style": "",
            "layout": "IPY_MODEL_8c5bcd6078054c6bbd8e95f0d5e88e33",
            "_model_module": "@jupyter-widgets/controls",
            "children": [
              "IPY_MODEL_c9293316f8254779a03cb035169d4b01",
              "IPY_MODEL_7891e6f33700466bb2c45e7a0ae82978"
            ]
          }
        },
        "8c5bcd6078054c6bbd8e95f0d5e88e33": {
          "model_module": "@jupyter-widgets/base",
          "model_name": "LayoutModel",
          "state": {
            "_view_name": "LayoutView",
            "grid_template_rows": null,
            "right": null,
            "justify_content": null,
            "_view_module": "@jupyter-widgets/base",
            "overflow": null,
            "_model_module_version": "1.2.0",
            "_view_count": null,
            "flex_flow": null,
            "width": null,
            "min_width": null,
            "border": null,
            "align_items": null,
            "bottom": null,
            "_model_module": "@jupyter-widgets/base",
            "top": null,
            "grid_column": null,
            "overflow_y": null,
            "overflow_x": null,
            "grid_auto_flow": null,
            "grid_area": null,
            "grid_template_columns": null,
            "flex": null,
            "_model_name": "LayoutModel",
            "justify_items": null,
            "grid_row": null,
            "max_height": null,
            "align_content": null,
            "visibility": null,
            "align_self": null,
            "height": null,
            "min_height": null,
            "padding": null,
            "grid_auto_rows": null,
            "grid_gap": null,
            "max_width": null,
            "order": null,
            "_view_module_version": "1.2.0",
            "grid_template_areas": null,
            "object_position": null,
            "object_fit": null,
            "grid_auto_columns": null,
            "margin": null,
            "display": null,
            "left": null
          }
        },
        "c9293316f8254779a03cb035169d4b01": {
          "model_module": "@jupyter-widgets/controls",
          "model_name": "FloatProgressModel",
          "state": {
            "_view_name": "ProgressView",
            "style": "IPY_MODEL_5a96ff479b5e47f3ba62df41ac05b8fe",
            "_dom_classes": [],
            "description": "Downloading: 100%",
            "_model_name": "FloatProgressModel",
            "bar_style": "success",
            "max": 1596,
            "_view_module": "@jupyter-widgets/controls",
            "_model_module_version": "1.5.0",
            "value": 1596,
            "_view_count": null,
            "_view_module_version": "1.5.0",
            "orientation": "horizontal",
            "min": 0,
            "description_tooltip": null,
            "_model_module": "@jupyter-widgets/controls",
            "layout": "IPY_MODEL_3c3217b4d4a64050a0575c947b78c487"
          }
        },
        "7891e6f33700466bb2c45e7a0ae82978": {
          "model_module": "@jupyter-widgets/controls",
          "model_name": "HTMLModel",
          "state": {
            "_view_name": "HTMLView",
            "style": "IPY_MODEL_1e966974cdf84374aa6b5c5430446823",
            "_dom_classes": [],
            "description": "",
            "_model_name": "HTMLModel",
            "placeholder": "​",
            "_view_module": "@jupyter-widgets/controls",
            "_model_module_version": "1.5.0",
            "value": " 1.60k/1.60k [00:00&lt;00:00, 39.5kB/s]",
            "_view_count": null,
            "_view_module_version": "1.5.0",
            "description_tooltip": null,
            "_model_module": "@jupyter-widgets/controls",
            "layout": "IPY_MODEL_44a4194cbc63473d84bb493392d18967"
          }
        },
        "5a96ff479b5e47f3ba62df41ac05b8fe": {
          "model_module": "@jupyter-widgets/controls",
          "model_name": "ProgressStyleModel",
          "state": {
            "_view_name": "StyleView",
            "_model_name": "ProgressStyleModel",
            "description_width": "initial",
            "_view_module": "@jupyter-widgets/base",
            "_model_module_version": "1.5.0",
            "_view_count": null,
            "_view_module_version": "1.2.0",
            "bar_color": null,
            "_model_module": "@jupyter-widgets/controls"
          }
        },
        "3c3217b4d4a64050a0575c947b78c487": {
          "model_module": "@jupyter-widgets/base",
          "model_name": "LayoutModel",
          "state": {
            "_view_name": "LayoutView",
            "grid_template_rows": null,
            "right": null,
            "justify_content": null,
            "_view_module": "@jupyter-widgets/base",
            "overflow": null,
            "_model_module_version": "1.2.0",
            "_view_count": null,
            "flex_flow": null,
            "width": null,
            "min_width": null,
            "border": null,
            "align_items": null,
            "bottom": null,
            "_model_module": "@jupyter-widgets/base",
            "top": null,
            "grid_column": null,
            "overflow_y": null,
            "overflow_x": null,
            "grid_auto_flow": null,
            "grid_area": null,
            "grid_template_columns": null,
            "flex": null,
            "_model_name": "LayoutModel",
            "justify_items": null,
            "grid_row": null,
            "max_height": null,
            "align_content": null,
            "visibility": null,
            "align_self": null,
            "height": null,
            "min_height": null,
            "padding": null,
            "grid_auto_rows": null,
            "grid_gap": null,
            "max_width": null,
            "order": null,
            "_view_module_version": "1.2.0",
            "grid_template_areas": null,
            "object_position": null,
            "object_fit": null,
            "grid_auto_columns": null,
            "margin": null,
            "display": null,
            "left": null
          }
        },
        "1e966974cdf84374aa6b5c5430446823": {
          "model_module": "@jupyter-widgets/controls",
          "model_name": "DescriptionStyleModel",
          "state": {
            "_view_name": "StyleView",
            "_model_name": "DescriptionStyleModel",
            "description_width": "",
            "_view_module": "@jupyter-widgets/base",
            "_model_module_version": "1.5.0",
            "_view_count": null,
            "_view_module_version": "1.2.0",
            "_model_module": "@jupyter-widgets/controls"
          }
        },
        "44a4194cbc63473d84bb493392d18967": {
          "model_module": "@jupyter-widgets/base",
          "model_name": "LayoutModel",
          "state": {
            "_view_name": "LayoutView",
            "grid_template_rows": null,
            "right": null,
            "justify_content": null,
            "_view_module": "@jupyter-widgets/base",
            "overflow": null,
            "_model_module_version": "1.2.0",
            "_view_count": null,
            "flex_flow": null,
            "width": null,
            "min_width": null,
            "border": null,
            "align_items": null,
            "bottom": null,
            "_model_module": "@jupyter-widgets/base",
            "top": null,
            "grid_column": null,
            "overflow_y": null,
            "overflow_x": null,
            "grid_auto_flow": null,
            "grid_area": null,
            "grid_template_columns": null,
            "flex": null,
            "_model_name": "LayoutModel",
            "justify_items": null,
            "grid_row": null,
            "max_height": null,
            "align_content": null,
            "visibility": null,
            "align_self": null,
            "height": null,
            "min_height": null,
            "padding": null,
            "grid_auto_rows": null,
            "grid_gap": null,
            "max_width": null,
            "order": null,
            "_view_module_version": "1.2.0",
            "grid_template_areas": null,
            "object_position": null,
            "object_fit": null,
            "grid_auto_columns": null,
            "margin": null,
            "display": null,
            "left": null
          }
        },
        "e591581932894f31a18594fce53e412b": {
          "model_module": "@jupyter-widgets/controls",
          "model_name": "HBoxModel",
          "state": {
            "_view_name": "HBoxView",
            "_dom_classes": [],
            "_model_name": "HBoxModel",
            "_view_module": "@jupyter-widgets/controls",
            "_model_module_version": "1.5.0",
            "_view_count": null,
            "_view_module_version": "1.5.0",
            "box_style": "",
            "layout": "IPY_MODEL_1f1492ad1ddb4030a5c209177f396e95",
            "_model_module": "@jupyter-widgets/controls",
            "children": [
              "IPY_MODEL_f6d8afbe99174dbea1a420f117634132",
              "IPY_MODEL_6034c8ef6d8249619ad5fea0b79b83d4"
            ]
          }
        },
        "1f1492ad1ddb4030a5c209177f396e95": {
          "model_module": "@jupyter-widgets/base",
          "model_name": "LayoutModel",
          "state": {
            "_view_name": "LayoutView",
            "grid_template_rows": null,
            "right": null,
            "justify_content": null,
            "_view_module": "@jupyter-widgets/base",
            "overflow": null,
            "_model_module_version": "1.2.0",
            "_view_count": null,
            "flex_flow": null,
            "width": null,
            "min_width": null,
            "border": null,
            "align_items": null,
            "bottom": null,
            "_model_module": "@jupyter-widgets/base",
            "top": null,
            "grid_column": null,
            "overflow_y": null,
            "overflow_x": null,
            "grid_auto_flow": null,
            "grid_area": null,
            "grid_template_columns": null,
            "flex": null,
            "_model_name": "LayoutModel",
            "justify_items": null,
            "grid_row": null,
            "max_height": null,
            "align_content": null,
            "visibility": null,
            "align_self": null,
            "height": null,
            "min_height": null,
            "padding": null,
            "grid_auto_rows": null,
            "grid_gap": null,
            "max_width": null,
            "order": null,
            "_view_module_version": "1.2.0",
            "grid_template_areas": null,
            "object_position": null,
            "object_fit": null,
            "grid_auto_columns": null,
            "margin": null,
            "display": null,
            "left": null
          }
        },
        "f6d8afbe99174dbea1a420f117634132": {
          "model_module": "@jupyter-widgets/controls",
          "model_name": "FloatProgressModel",
          "state": {
            "_view_name": "ProgressView",
            "style": "IPY_MODEL_e73db9382b4744698f6622c3c0107fa6",
            "_dom_classes": [],
            "description": "Downloading: 100%",
            "_model_name": "FloatProgressModel",
            "bar_style": "success",
            "max": 377667514,
            "_view_module": "@jupyter-widgets/controls",
            "_model_module_version": "1.5.0",
            "value": 377667514,
            "_view_count": null,
            "_view_module_version": "1.5.0",
            "orientation": "horizontal",
            "min": 0,
            "description_tooltip": null,
            "_model_module": "@jupyter-widgets/controls",
            "layout": "IPY_MODEL_6a09569098b748d38e6dcd81e9a4be8c"
          }
        },
        "6034c8ef6d8249619ad5fea0b79b83d4": {
          "model_module": "@jupyter-widgets/controls",
          "model_name": "HTMLModel",
          "state": {
            "_view_name": "HTMLView",
            "style": "IPY_MODEL_80fb3bbb87054021bbf6557931c90b02",
            "_dom_classes": [],
            "description": "",
            "_model_name": "HTMLModel",
            "placeholder": "​",
            "_view_module": "@jupyter-widgets/controls",
            "_model_module_version": "1.5.0",
            "value": " 378M/378M [00:09&lt;00:00, 40.0MB/s]",
            "_view_count": null,
            "_view_module_version": "1.5.0",
            "description_tooltip": null,
            "_model_module": "@jupyter-widgets/controls",
            "layout": "IPY_MODEL_0bfeceb74c9e445dafa2b7dc41670cfe"
          }
        },
        "e73db9382b4744698f6622c3c0107fa6": {
          "model_module": "@jupyter-widgets/controls",
          "model_name": "ProgressStyleModel",
          "state": {
            "_view_name": "StyleView",
            "_model_name": "ProgressStyleModel",
            "description_width": "initial",
            "_view_module": "@jupyter-widgets/base",
            "_model_module_version": "1.5.0",
            "_view_count": null,
            "_view_module_version": "1.2.0",
            "bar_color": null,
            "_model_module": "@jupyter-widgets/controls"
          }
        },
        "6a09569098b748d38e6dcd81e9a4be8c": {
          "model_module": "@jupyter-widgets/base",
          "model_name": "LayoutModel",
          "state": {
            "_view_name": "LayoutView",
            "grid_template_rows": null,
            "right": null,
            "justify_content": null,
            "_view_module": "@jupyter-widgets/base",
            "overflow": null,
            "_model_module_version": "1.2.0",
            "_view_count": null,
            "flex_flow": null,
            "width": null,
            "min_width": null,
            "border": null,
            "align_items": null,
            "bottom": null,
            "_model_module": "@jupyter-widgets/base",
            "top": null,
            "grid_column": null,
            "overflow_y": null,
            "overflow_x": null,
            "grid_auto_flow": null,
            "grid_area": null,
            "grid_template_columns": null,
            "flex": null,
            "_model_name": "LayoutModel",
            "justify_items": null,
            "grid_row": null,
            "max_height": null,
            "align_content": null,
            "visibility": null,
            "align_self": null,
            "height": null,
            "min_height": null,
            "padding": null,
            "grid_auto_rows": null,
            "grid_gap": null,
            "max_width": null,
            "order": null,
            "_view_module_version": "1.2.0",
            "grid_template_areas": null,
            "object_position": null,
            "object_fit": null,
            "grid_auto_columns": null,
            "margin": null,
            "display": null,
            "left": null
          }
        },
        "80fb3bbb87054021bbf6557931c90b02": {
          "model_module": "@jupyter-widgets/controls",
          "model_name": "DescriptionStyleModel",
          "state": {
            "_view_name": "StyleView",
            "_model_name": "DescriptionStyleModel",
            "description_width": "",
            "_view_module": "@jupyter-widgets/base",
            "_model_module_version": "1.5.0",
            "_view_count": null,
            "_view_module_version": "1.2.0",
            "_model_module": "@jupyter-widgets/controls"
          }
        },
        "0bfeceb74c9e445dafa2b7dc41670cfe": {
          "model_module": "@jupyter-widgets/base",
          "model_name": "LayoutModel",
          "state": {
            "_view_name": "LayoutView",
            "grid_template_rows": null,
            "right": null,
            "justify_content": null,
            "_view_module": "@jupyter-widgets/base",
            "overflow": null,
            "_model_module_version": "1.2.0",
            "_view_count": null,
            "flex_flow": null,
            "width": null,
            "min_width": null,
            "border": null,
            "align_items": null,
            "bottom": null,
            "_model_module": "@jupyter-widgets/base",
            "top": null,
            "grid_column": null,
            "overflow_y": null,
            "overflow_x": null,
            "grid_auto_flow": null,
            "grid_area": null,
            "grid_template_columns": null,
            "flex": null,
            "_model_name": "LayoutModel",
            "justify_items": null,
            "grid_row": null,
            "max_height": null,
            "align_content": null,
            "visibility": null,
            "align_self": null,
            "height": null,
            "min_height": null,
            "padding": null,
            "grid_auto_rows": null,
            "grid_gap": null,
            "max_width": null,
            "order": null,
            "_view_module_version": "1.2.0",
            "grid_template_areas": null,
            "object_position": null,
            "object_fit": null,
            "grid_auto_columns": null,
            "margin": null,
            "display": null,
            "left": null
          }
        }
      }
    }
  },
  "cells": [
    {
      "cell_type": "markdown",
      "metadata": {
        "id": "view-in-github",
        "colab_type": "text"
      },
      "source": [
        "<a href=\"https://colab.research.google.com/github/pushkal1234/Speech-Recognition-system_wav2vec-2.0-/blob/main/Convin.ipynb\" target=\"_parent\"><img src=\"https://colab.research.google.com/assets/colab-badge.svg\" alt=\"Open In Colab\"/></a>"
      ]
    },
    {
      "cell_type": "markdown",
      "metadata": {
        "id": "6VHd6Owzjv8R"
      },
      "source": [
        "Speech to text conversion module using wav2vec 2.0 developed by Facebook AI.\n",
        "Here we will be using Transformer Architecture Hugging face for the development of Speech Recognition system of Duration more than 15 Minutes.\n",
        "we start with installing transformer and import Wav2Vec2ForCTC, Wav2Vec2Tokenizer."
      ]
    },
    {
      "cell_type": "code",
      "metadata": {
        "id": "4ZsX1CAEXSfi",
        "colab": {
          "base_uri": "https://localhost:8080/"
        },
        "outputId": "ad0dc7e0-b8fd-44c1-b09f-197f65154744"
      },
      "source": [
        "!pip install -q transformers\n",
        "import librosa\n",
        "\n",
        "#Importing Pytorch\n",
        "import torch\n",
        "\n",
        "#Importing Wav2Vec\n",
        "from transformers import Wav2Vec2ForCTC, Wav2Vec2Tokenizer"
      ],
      "execution_count": 1,
      "outputs": [
        {
          "output_type": "stream",
          "text": [
            "\u001b[K     |████████████████████████████████| 2.6 MB 4.9 MB/s \n",
            "\u001b[K     |████████████████████████████████| 3.3 MB 41.1 MB/s \n",
            "\u001b[K     |████████████████████████████████| 895 kB 49.7 MB/s \n",
            "\u001b[K     |████████████████████████████████| 636 kB 50.7 MB/s \n",
            "\u001b[?25h"
          ],
          "name": "stdout"
        }
      ]
    },
    {
      "cell_type": "code",
      "metadata": {
        "id": "1nNQiz-mc2QK"
      },
      "source": [
        "import IPython.display as display\n",
        "display.Audio(\"/content/sample_data/audio/sampleaudio.wav\", autoplay=True)"
      ],
      "execution_count": 34,
      "outputs": []
    },
    {
      "cell_type": "code",
      "metadata": {
        "colab": {
          "base_uri": "https://localhost:8080/"
        },
        "id": "XmZH79gnMjUC",
        "outputId": "b39f876d-99b6-4e45-fa00-0933670d65b0"
      },
      "source": [
        "!pip install pydub"
      ],
      "execution_count": 2,
      "outputs": [
        {
          "output_type": "stream",
          "text": [
            "Collecting pydub\n",
            "  Downloading pydub-0.25.1-py2.py3-none-any.whl (32 kB)\n",
            "Installing collected packages: pydub\n",
            "Successfully installed pydub-0.25.1\n"
          ],
          "name": "stdout"
        }
      ]
    },
    {
      "cell_type": "markdown",
      "metadata": {
        "id": "izcyOxW4kRNU"
      },
      "source": [
        "Inspite of using  T4 GPU and 25GB RAM, we won't be able to process such a large audio file at one time and session would crash even if audio is greater than 2 Minutes with high RAM as well.\n",
        "Hence to deal with hardware limitations for developing long speech recognition system, I will split the audio files of duration 1 Minutes each and then feed them to the pre trained model wav2vec2.0 .\n",
        "\n",
        "we will install pydub for this purpose"
      ]
    },
    {
      "cell_type": "code",
      "metadata": {
        "id": "bd3wqYkQMEya"
      },
      "source": [
        "from pydub import AudioSegment\n",
        "import math\n",
        "\n",
        "class SplitWavAudioMubin():\n",
        "    def __init__(self, folder, filename):\n",
        "        self.folder = folder\n",
        "        self.filename = filename\n",
        "        self.filepath = folder + '/' + filename\n",
        "        \n",
        "        self.audio = AudioSegment.from_wav(self.filepath)\n",
        "    \n",
        "    def get_duration(self):\n",
        "        return self.audio.duration_seconds\n",
        "    \n",
        "    def single_split(self, from_min, to_min, split_filename):\n",
        "        t1 = from_min * 60 * 1000\n",
        "        t2 = to_min * 60 * 1000\n",
        "        split_audio = self.audio[t1:t2]\n",
        "        split_audio.export(self.folder + '/' + split_filename, format=\"wav\")\n",
        "        \n",
        "    def multiple_split(self, min_per_split):\n",
        "        total_mins = math.ceil(self.get_duration() / 60)\n",
        "        for i in range(0, total_mins, min_per_split):\n",
        "            split_fn = str(i) + '_' + self.filename\n",
        "            self.single_split(i, i+min_per_split, split_fn)\n",
        "            print(str(i) + ' Done')\n",
        "            if i == total_mins - min_per_split:\n",
        "                print('All splited successfully')"
      ],
      "execution_count": 3,
      "outputs": []
    },
    {
      "cell_type": "code",
      "metadata": {
        "colab": {
          "base_uri": "https://localhost:8080/"
        },
        "id": "dRHs8Es1MMTn",
        "outputId": "2ac34935-b903-457c-f09c-0123fc7daa2b"
      },
      "source": [
        "folder = '/content/sample_data/audio'  \n",
        "file = 'sampleaudio.wav'\n",
        "split_wav = SplitWavAudioMubin(folder, file)\n",
        "split_wav.multiple_split(min_per_split=1)"
      ],
      "execution_count": 10,
      "outputs": [
        {
          "output_type": "stream",
          "text": [
            "0 Done\n",
            "1 Done\n",
            "2 Done\n",
            "3 Done\n",
            "4 Done\n",
            "5 Done\n",
            "6 Done\n",
            "All splited successfully\n"
          ],
          "name": "stdout"
        }
      ]
    },
    {
      "cell_type": "code",
      "metadata": {
        "id": "eExm7jO0c2Xh"
      },
      "source": [
        "# Loading the audio file\n",
        "audio_split_1, rate_1 = librosa.load(\"/content/sample_data/audio/0_sampleaudio.wav\", sr = 16000)\n",
        "audio_split_2, rate_2 = librosa.load(\"/content/sample_data/audio/1_sampleaudio.wav\", sr = 16000)\n",
        "audio_split_3, rate_3 = librosa.load(\"/content/sample_data/audio/2_sampleaudio.wav\", sr = 16000)\n",
        "audio_split_4, rate_4 = librosa.load(\"/content/sample_data/audio/3_sampleaudio.wav\", sr = 16000)\n",
        "audio_split_5, rate_5 = librosa.load(\"/content/sample_data/audio/4_sampleaudio.wav\", sr = 16000)\n",
        "audio_split_6, rate_6 = librosa.load(\"/content/sample_data/audio/5_sampleaudio.wav\", sr = 16000)\n",
        "audio_split_7, rate_7 = librosa.load(\"/content/sample_data/audio/6_sampleaudio.wav\", sr = 16000)"
      ],
      "execution_count": 11,
      "outputs": []
    },
    {
      "cell_type": "code",
      "metadata": {
        "colab": {
          "base_uri": "https://localhost:8080/"
        },
        "id": "4OxZU-dPc2ZS",
        "outputId": "78f81594-69a7-4d47-92d1-c9c3e3e02496"
      },
      "source": [
        "# printing audio \n",
        "print(audio_split_1)"
      ],
      "execution_count": 12,
      "outputs": [
        {
          "output_type": "stream",
          "text": [
            "[ 0.          0.          0.         ... -0.05880737 -0.0501709\n",
            " -0.05291748]\n"
          ],
          "name": "stdout"
        }
      ]
    },
    {
      "cell_type": "code",
      "metadata": {
        "colab": {
          "base_uri": "https://localhost:8080/"
        },
        "id": "oUMol0hFhF-q",
        "outputId": "2c9bdb05-3463-4e6e-fa1c-a9993ed2ae49"
      },
      "source": [
        "print(audio_split_2)"
      ],
      "execution_count": 13,
      "outputs": [
        {
          "output_type": "stream",
          "text": [
            "[-0.06158447 -0.07061768 -0.06921387 ...  0.05548096  0.03015137\n",
            "  0.00924683]\n"
          ],
          "name": "stdout"
        }
      ]
    },
    {
      "cell_type": "code",
      "metadata": {
        "colab": {
          "base_uri": "https://localhost:8080/"
        },
        "id": "31NAgk_FhGCT",
        "outputId": "ec6cecf4-59f0-475c-9520-b783d03c6744"
      },
      "source": [
        "print(audio_split_3)"
      ],
      "execution_count": 14,
      "outputs": [
        {
          "output_type": "stream",
          "text": [
            "[-0.00231934 -0.0168457  -0.03164673 ... -0.00592041 -0.00259399\n",
            " -0.00469971]\n"
          ],
          "name": "stdout"
        }
      ]
    },
    {
      "cell_type": "code",
      "metadata": {
        "colab": {
          "base_uri": "https://localhost:8080/"
        },
        "id": "EhNehKDPhGE3",
        "outputId": "b83a7912-3db8-45d8-c73c-33442e2e7b3d"
      },
      "source": [
        "print(audio_split_4)"
      ],
      "execution_count": 15,
      "outputs": [
        {
          "output_type": "stream",
          "text": [
            "[-0.00665283 -0.00643921 -0.00619507 ...  0.09960938  0.09985352\n",
            "  0.09561157]\n"
          ],
          "name": "stdout"
        }
      ]
    },
    {
      "cell_type": "code",
      "metadata": {
        "colab": {
          "base_uri": "https://localhost:8080/"
        },
        "id": "Rzpnqd9LhGGn",
        "outputId": "77464bbf-58bf-42a7-88bf-17d073eb5860"
      },
      "source": [
        "print(audio_split_5)"
      ],
      "execution_count": 16,
      "outputs": [
        {
          "output_type": "stream",
          "text": [
            "[ 0.09338379  0.09432983  0.09655762 ... -0.00125122 -0.00097656\n",
            " -0.00299072]\n"
          ],
          "name": "stdout"
        }
      ]
    },
    {
      "cell_type": "code",
      "metadata": {
        "colab": {
          "base_uri": "https://localhost:8080/"
        },
        "id": "1BIbshePhM9w",
        "outputId": "a899698c-0c24-45e5-ee1a-233a6b3a55b4"
      },
      "source": [
        "print(audio_split_6)"
      ],
      "execution_count": 17,
      "outputs": [
        {
          "output_type": "stream",
          "text": [
            "[-0.00244141  0.00067139  0.00149536 ...  0.01370239  0.01306152\n",
            "  0.01296997]\n"
          ],
          "name": "stdout"
        }
      ]
    },
    {
      "cell_type": "code",
      "metadata": {
        "colab": {
          "base_uri": "https://localhost:8080/"
        },
        "id": "bsNif1ajhNdw",
        "outputId": "2ba796a4-1b55-4453-882b-f3cbd23bd7eb"
      },
      "source": [
        "print(audio_split_7)"
      ],
      "execution_count": 18,
      "outputs": [
        {
          "output_type": "stream",
          "text": [
            "[ 0.01177979  0.00976562  0.00808716 ... -0.00927734 -0.00939941\n",
            " -0.009552  ]\n"
          ],
          "name": "stdout"
        }
      ]
    },
    {
      "cell_type": "code",
      "metadata": {
        "colab": {
          "base_uri": "https://localhost:8080/"
        },
        "id": "omew6JGIc2ba",
        "outputId": "1d997a96-05ba-47ea-fa68-4b98851366b7"
      },
      "source": [
        "# printing rate\n",
        "print(rate_1)\n"
      ],
      "execution_count": 19,
      "outputs": [
        {
          "output_type": "stream",
          "text": [
            "16000\n"
          ],
          "name": "stdout"
        }
      ]
    },
    {
      "cell_type": "code",
      "metadata": {
        "colab": {
          "base_uri": "https://localhost:8080/",
          "height": 405,
          "referenced_widgets": [
            "b37397fbd89d4a859dab93a200ed8ea2",
            "43873bce19d74a2aa45571dc7d2920a8",
            "7b84aafe7dad489391c37920eb8628a5",
            "c0f868e64925423f845313f13c3a5535",
            "a06da3d86e2c4e42b9f0342c2d3504ed",
            "7fdd6650515946eb9350457b51a3d2e6",
            "54833a04725d456eac122f38a40ce359",
            "dd490140c8c746a798e7715267875f34",
            "48aa0111072e45e99296c10a1e04f799",
            "11e9fd7b194d4db6b91a20910aea7928",
            "1663bb748b8d446ea83ef92c7b38445d",
            "07c43963d1b94d019c77833338c90d38",
            "f8501e3af6344f44b076d3babf63364f",
            "325d5fb2f575434793662e8e77d477ef",
            "d134963c1fcb4cfca4628146bcd47e52",
            "bba43ea38dd44be3836a88c51874266d",
            "36c7d73c864b423096f7603b69c17dde",
            "82ce02d316bc4795ba8fbee70502a041",
            "ceb1ea2c2620479dad4f1113accba6f7",
            "ba5da8abc8ce438d8990b9b6f8bcb3e0",
            "a2618e3b23484b09af12c81609789a53",
            "8f258d74c5864238a2fff43a34db07fc",
            "6632901f870744f1860fa4466455fad0",
            "2f0bf2469d27419681b894587b268265",
            "a8d261924ef64b40846a189576c3af6f",
            "8c5bcd6078054c6bbd8e95f0d5e88e33",
            "c9293316f8254779a03cb035169d4b01",
            "7891e6f33700466bb2c45e7a0ae82978",
            "5a96ff479b5e47f3ba62df41ac05b8fe",
            "3c3217b4d4a64050a0575c947b78c487",
            "1e966974cdf84374aa6b5c5430446823",
            "44a4194cbc63473d84bb493392d18967",
            "e591581932894f31a18594fce53e412b",
            "1f1492ad1ddb4030a5c209177f396e95",
            "f6d8afbe99174dbea1a420f117634132",
            "6034c8ef6d8249619ad5fea0b79b83d4",
            "e73db9382b4744698f6622c3c0107fa6",
            "6a09569098b748d38e6dcd81e9a4be8c",
            "80fb3bbb87054021bbf6557931c90b02",
            "0bfeceb74c9e445dafa2b7dc41670cfe"
          ]
        },
        "id": "00EGzmV-c2dN",
        "outputId": "7bc6d1ad-8c31-4803-8552-c474de374232"
      },
      "source": [
        "# Importing Wav2Vec pretrained model\n",
        "\n",
        "tokenizer = Wav2Vec2Tokenizer.from_pretrained(\"facebook/wav2vec2-base-960h\")\n",
        "model = Wav2Vec2ForCTC.from_pretrained(\"facebook/wav2vec2-base-960h\")"
      ],
      "execution_count": 20,
      "outputs": [
        {
          "output_type": "display_data",
          "data": {
            "application/vnd.jupyter.widget-view+json": {
              "model_id": "b37397fbd89d4a859dab93a200ed8ea2",
              "version_minor": 0,
              "version_major": 2
            },
            "text/plain": [
              "HBox(children=(FloatProgress(value=0.0, description='Downloading', max=291.0, style=ProgressStyle(description_…"
            ]
          },
          "metadata": {
            "tags": []
          }
        },
        {
          "output_type": "stream",
          "text": [
            "\n"
          ],
          "name": "stdout"
        },
        {
          "output_type": "display_data",
          "data": {
            "application/vnd.jupyter.widget-view+json": {
              "model_id": "48aa0111072e45e99296c10a1e04f799",
              "version_minor": 0,
              "version_major": 2
            },
            "text/plain": [
              "HBox(children=(FloatProgress(value=0.0, description='Downloading', max=163.0, style=ProgressStyle(description_…"
            ]
          },
          "metadata": {
            "tags": []
          }
        },
        {
          "output_type": "stream",
          "text": [
            "\n"
          ],
          "name": "stdout"
        },
        {
          "output_type": "display_data",
          "data": {
            "application/vnd.jupyter.widget-view+json": {
              "model_id": "36c7d73c864b423096f7603b69c17dde",
              "version_minor": 0,
              "version_major": 2
            },
            "text/plain": [
              "HBox(children=(FloatProgress(value=0.0, description='Downloading', max=85.0, style=ProgressStyle(description_w…"
            ]
          },
          "metadata": {
            "tags": []
          }
        },
        {
          "output_type": "stream",
          "text": [
            "\n"
          ],
          "name": "stdout"
        },
        {
          "output_type": "display_data",
          "data": {
            "application/vnd.jupyter.widget-view+json": {
              "model_id": "a8d261924ef64b40846a189576c3af6f",
              "version_minor": 0,
              "version_major": 2
            },
            "text/plain": [
              "HBox(children=(FloatProgress(value=0.0, description='Downloading', max=1596.0, style=ProgressStyle(description…"
            ]
          },
          "metadata": {
            "tags": []
          }
        },
        {
          "output_type": "stream",
          "text": [
            "The tokenizer class you load from this checkpoint is not the same type as the class this function is called from. It may result in unexpected tokenization. \n",
            "The tokenizer class you load from this checkpoint is 'Wav2Vec2CTCTokenizer'. \n",
            "The class this function is called from is 'Wav2Vec2Tokenizer'.\n"
          ],
          "name": "stderr"
        },
        {
          "output_type": "stream",
          "text": [
            "\n"
          ],
          "name": "stdout"
        },
        {
          "output_type": "stream",
          "text": [
            "/usr/local/lib/python3.7/dist-packages/transformers/models/wav2vec2/tokenization_wav2vec2.py:419: FutureWarning: The class `Wav2Vec2Tokenizer` is deprecated and will be removed in version 5 of Transformers. Please use `Wav2Vec2Processor` or `Wav2Vec2CTCTokenizer` instead.\n",
            "  FutureWarning,\n"
          ],
          "name": "stderr"
        },
        {
          "output_type": "display_data",
          "data": {
            "application/vnd.jupyter.widget-view+json": {
              "model_id": "e591581932894f31a18594fce53e412b",
              "version_minor": 0,
              "version_major": 2
            },
            "text/plain": [
              "HBox(children=(FloatProgress(value=0.0, description='Downloading', max=377667514.0, style=ProgressStyle(descri…"
            ]
          },
          "metadata": {
            "tags": []
          }
        },
        {
          "output_type": "stream",
          "text": [
            "\n"
          ],
          "name": "stdout"
        },
        {
          "output_type": "stream",
          "text": [
            "Some weights of Wav2Vec2ForCTC were not initialized from the model checkpoint at facebook/wav2vec2-base-960h and are newly initialized: ['wav2vec2.masked_spec_embed']\n",
            "You should probably TRAIN this model on a down-stream task to be able to use it for predictions and inference.\n"
          ],
          "name": "stderr"
        }
      ]
    },
    {
      "cell_type": "markdown",
      "metadata": {
        "id": "gJPTCPi8uQ8P"
      },
      "source": [
        "Now, taking the input values, passing the audio (array) into tokenizer and we want our tensors in PyTorch format instead of Python integers. return_tensors = “pt” which is nothing more than PyTorch format."
      ]
    },
    {
      "cell_type": "code",
      "metadata": {
        "id": "s9X-GuTrc2fL"
      },
      "source": [
        "# Taking an input value for 6 different splits"
      ],
      "execution_count": 21,
      "outputs": []
    },
    {
      "cell_type": "code",
      "metadata": {
        "id": "4ilEVFC5h0fq"
      },
      "source": [
        "input_values_1 = tokenizer(audio_split_1, return_tensors = \"pt\").input_values"
      ],
      "execution_count": 22,
      "outputs": []
    },
    {
      "cell_type": "code",
      "metadata": {
        "id": "vGjSRpqYh0i7"
      },
      "source": [
        "input_values_2 = tokenizer(audio_split_2, return_tensors = \"pt\").input_values"
      ],
      "execution_count": 23,
      "outputs": []
    },
    {
      "cell_type": "code",
      "metadata": {
        "id": "BgJNNzkih0k-"
      },
      "source": [
        "input_values_3 = tokenizer(audio_split_3, return_tensors = \"pt\").input_values"
      ],
      "execution_count": 24,
      "outputs": []
    },
    {
      "cell_type": "code",
      "metadata": {
        "id": "ZQmjUQcJh0na"
      },
      "source": [
        "input_values_4 = tokenizer(audio_split_4, return_tensors = \"pt\").input_values"
      ],
      "execution_count": 25,
      "outputs": []
    },
    {
      "cell_type": "code",
      "metadata": {
        "id": "KEwayGRkh0qi"
      },
      "source": [
        "input_values_5 = tokenizer(audio_split_5, return_tensors = \"pt\").input_values"
      ],
      "execution_count": 26,
      "outputs": []
    },
    {
      "cell_type": "code",
      "metadata": {
        "id": "eiNlgKxqiDag"
      },
      "source": [
        "input_values_6 = tokenizer(audio_split_6, return_tensors = \"pt\").input_values"
      ],
      "execution_count": 27,
      "outputs": []
    },
    {
      "cell_type": "code",
      "metadata": {
        "id": "P-h9tHLyiQvL"
      },
      "source": [
        "input_values_7 = tokenizer(audio_split_7, return_tensors = \"pt\").input_values"
      ],
      "execution_count": 28,
      "outputs": []
    },
    {
      "cell_type": "code",
      "metadata": {
        "id": "ypIOMlhrwBd8"
      },
      "source": [
        "# Storing logits (non-normalized prediction values)\n",
        "logits_1 = model(input_values_1).logits"
      ],
      "execution_count": 29,
      "outputs": []
    },
    {
      "cell_type": "code",
      "metadata": {
        "id": "IMTB4sKcwBjG"
      },
      "source": [
        "# Storing logits (non-normalized prediction values)\n",
        "logits_2 = model(input_values_2).logits"
      ],
      "execution_count": 34,
      "outputs": []
    },
    {
      "cell_type": "code",
      "metadata": {
        "id": "62eskrDvSe3d"
      },
      "source": [
        "# Storing logits (non-normalized prediction values)\n",
        "logits_3 = model(input_values_3).logits"
      ],
      "execution_count": 39,
      "outputs": []
    },
    {
      "cell_type": "code",
      "metadata": {
        "id": "Abuxnn71SlzK"
      },
      "source": [
        "# Storing logits (non-normalized prediction values)\n",
        "logits_4 = model(input_values_4).logits"
      ],
      "execution_count": 44,
      "outputs": []
    },
    {
      "cell_type": "code",
      "metadata": {
        "id": "jPh_VpW_Sl1L"
      },
      "source": [
        "# Storing logits (non-normalized prediction values)\n",
        "logits_5 = model(input_values_5).logits"
      ],
      "execution_count": 49,
      "outputs": []
    },
    {
      "cell_type": "code",
      "metadata": {
        "id": "6k_kVggwSl3C"
      },
      "source": [
        "# Storing logits (non-normalized prediction values)\n",
        "logits_6 = model(input_values_6).logits"
      ],
      "execution_count": 54,
      "outputs": []
    },
    {
      "cell_type": "code",
      "metadata": {
        "id": "xUGk9GomSl4h"
      },
      "source": [
        "# Storing logits (non-normalized prediction values)\n",
        "logits_7 = model(input_values_7).logits"
      ],
      "execution_count": 59,
      "outputs": []
    },
    {
      "cell_type": "code",
      "metadata": {
        "id": "wi1PLQijjYpH"
      },
      "source": [
        "# Storing logits (non-normalized prediction values)\n",
        "prediction_1 = torch.argmax(logits_1, dim = -1)"
      ],
      "execution_count": 30,
      "outputs": []
    },
    {
      "cell_type": "code",
      "metadata": {
        "id": "aDSdxj5PdPi4"
      },
      "source": [
        "# Storing predicted ids\n",
        "prediction_2 = torch.argmax(logits_2, dim = -1)"
      ],
      "execution_count": 35,
      "outputs": []
    },
    {
      "cell_type": "code",
      "metadata": {
        "id": "S28axCCoSwzE"
      },
      "source": [
        "# Storing predicted ids\n",
        "prediction_3 = torch.argmax(logits_3, dim = -1)"
      ],
      "execution_count": 40,
      "outputs": []
    },
    {
      "cell_type": "code",
      "metadata": {
        "id": "NrakOMWhSw45"
      },
      "source": [
        "# Storing predicted ids\n",
        "prediction_4 = torch.argmax(logits_4, dim = -1)"
      ],
      "execution_count": 45,
      "outputs": []
    },
    {
      "cell_type": "code",
      "metadata": {
        "id": "kOBzqD6rSw60"
      },
      "source": [
        "# Storing predicted ids\n",
        "prediction_5 = torch.argmax(logits_5, dim = -1)"
      ],
      "execution_count": 50,
      "outputs": []
    },
    {
      "cell_type": "code",
      "metadata": {
        "id": "lDxzGr8bSw8u"
      },
      "source": [
        "# Storing predicted ids\n",
        "prediction_6 = torch.argmax(logits_6, dim = -1)"
      ],
      "execution_count": 55,
      "outputs": []
    },
    {
      "cell_type": "code",
      "metadata": {
        "id": "8mtsLV9SSw-O"
      },
      "source": [
        "# Storing predicted ids\n",
        "prediction_7 = torch.argmax(logits_7, dim = -1)"
      ],
      "execution_count": 60,
      "outputs": []
    },
    {
      "cell_type": "code",
      "metadata": {
        "id": "R5BnnMEdo4u-"
      },
      "source": [
        "# Passing the prediction to the tokenzer decode to get the transcription\n",
        "transcription_1 = tokenizer.batch_decode(prediction_1)[0]"
      ],
      "execution_count": 31,
      "outputs": []
    },
    {
      "cell_type": "code",
      "metadata": {
        "id": "PRYhHSwVdPk-"
      },
      "source": [
        "# Passing the prediction to the tokenzer decode to get the transcription\n",
        "transcription_2 = tokenizer.batch_decode(prediction_2)[0]"
      ],
      "execution_count": 36,
      "outputs": []
    },
    {
      "cell_type": "code",
      "metadata": {
        "id": "Xp70WrgmS5ug"
      },
      "source": [
        "# Passing the prediction to the tokenzer decode to get the transcription\n",
        "transcription_3 = tokenizer.batch_decode(prediction_3)[0]"
      ],
      "execution_count": 41,
      "outputs": []
    },
    {
      "cell_type": "code",
      "metadata": {
        "id": "bdqKpGvZS5zp"
      },
      "source": [
        "# Passing the prediction to the tokenzer decode to get the transcription\n",
        "transcription_4 = tokenizer.batch_decode(prediction_4)[0]"
      ],
      "execution_count": 46,
      "outputs": []
    },
    {
      "cell_type": "code",
      "metadata": {
        "id": "rkh7J0uSS53G"
      },
      "source": [
        "# Passing the prediction to the tokenzer decode to get the transcription\n",
        "transcription_5 = tokenizer.batch_decode(prediction_5)[0]"
      ],
      "execution_count": 51,
      "outputs": []
    },
    {
      "cell_type": "code",
      "metadata": {
        "id": "4nM8S5nkS55F"
      },
      "source": [
        "# Passing the prediction to the tokenzer decode to get the transcription\n",
        "transcription_6 = tokenizer.batch_decode(prediction_6)[0]"
      ],
      "execution_count": 56,
      "outputs": []
    },
    {
      "cell_type": "code",
      "metadata": {
        "id": "IS9HhGQQTBST"
      },
      "source": [
        "# Passing the prediction to the tokenzer decode to get the transcription\n",
        "transcription_7 = tokenizer.batch_decode(prediction_7)[0]"
      ],
      "execution_count": 61,
      "outputs": []
    },
    {
      "cell_type": "code",
      "metadata": {
        "colab": {
          "base_uri": "https://localhost:8080/"
        },
        "id": "jUJGxWSwdWGX",
        "outputId": "0a265e98-995a-4ce7-be83-d83a32b8ae1e"
      },
      "source": [
        "# Printing the transcription\n",
        "print(transcription_1)\n"
      ],
      "execution_count": 32,
      "outputs": [
        {
          "output_type": "stream",
          "text": [
            "THERE IS AN INDEFINABLE MYSTERIOUS POWER THAT PERVADES EVERYTHING I FEEL IT THOUGH I DO NOT SEE IT IT IS THIS UNSEEN POWER WHICH MAKES ITSELF FELT AND YET DEFIIS ALL PRUE BECAURSE IT IS SO UNLIKE ALL THAT I PERCEIVE THROUGH MY SENSES IT TRANSCENDS THE SENSES BUT IT IS POSSIBLE TO RISEN OUT THE EXISTENCE OF GOD TO A LIMITED EXTENT EVEN IN ORDINARY AFFAIRS WE KNOW THAT PEOPLE DO NOT KNOW WHO RULES OR WHY AND HOW HE RLE AND YET THEY KNOW THAT THERE IS A POWER THAT CERTAINLY RULE IN MY TOR LAST YEAR IN MY SOUR I MIT MANY POOR VILLAGERS AND I HOUND UPON INQUIRY THAT THEY DID NOT KNOW WHO RULE MY SOLF THEY SIMPLY S\n"
          ],
          "name": "stdout"
        }
      ]
    },
    {
      "cell_type": "code",
      "metadata": {
        "colab": {
          "base_uri": "https://localhost:8080/",
          "height": 17
        },
        "id": "ZDzjUarhQzMv",
        "outputId": "bc764340-dc56-43f1-a9d8-9260ffdf0ee8"
      },
      "source": [
        "from sklearn.externals import joblib\n",
        "from google.colab import files\n",
        "\n",
        "#you can save variable into file on colab files\n",
        "\n",
        "joblib.dump(logits_6,  'logits_6.pkl')   \n",
        " \n",
        "#this will download file to your local downloads\n",
        "\n",
        "files.download('logits_6.pkl')       \n",
        "\n",
        "#reload your saved data.\n",
        "\n",
        "logits_6 = joblib.load('logits_6.pkl') "
      ],
      "execution_count": 58,
      "outputs": [
        {
          "output_type": "display_data",
          "data": {
            "application/javascript": [
              "\n",
              "    async function download(id, filename, size) {\n",
              "      if (!google.colab.kernel.accessAllowed) {\n",
              "        return;\n",
              "      }\n",
              "      const div = document.createElement('div');\n",
              "      const label = document.createElement('label');\n",
              "      label.textContent = `Downloading \"${filename}\": `;\n",
              "      div.appendChild(label);\n",
              "      const progress = document.createElement('progress');\n",
              "      progress.max = size;\n",
              "      div.appendChild(progress);\n",
              "      document.body.appendChild(div);\n",
              "\n",
              "      const buffers = [];\n",
              "      let downloaded = 0;\n",
              "\n",
              "      const channel = await google.colab.kernel.comms.open(id);\n",
              "      // Send a message to notify the kernel that we're ready.\n",
              "      channel.send({})\n",
              "\n",
              "      for await (const message of channel.messages) {\n",
              "        // Send a message to notify the kernel that we're ready.\n",
              "        channel.send({})\n",
              "        if (message.buffers) {\n",
              "          for (const buffer of message.buffers) {\n",
              "            buffers.push(buffer);\n",
              "            downloaded += buffer.byteLength;\n",
              "            progress.value = downloaded;\n",
              "          }\n",
              "        }\n",
              "      }\n",
              "      const blob = new Blob(buffers, {type: 'application/binary'});\n",
              "      const a = document.createElement('a');\n",
              "      a.href = window.URL.createObjectURL(blob);\n",
              "      a.download = filename;\n",
              "      div.appendChild(a);\n",
              "      a.click();\n",
              "      div.remove();\n",
              "    }\n",
              "  "
            ],
            "text/plain": [
              "<IPython.core.display.Javascript object>"
            ]
          },
          "metadata": {
            "tags": []
          }
        },
        {
          "output_type": "display_data",
          "data": {
            "application/javascript": [
              "download(\"download_281c9db0-54d8-48dc-9983-65fea1a25daf\", \"logits_6.pkl\", 384274)"
            ],
            "text/plain": [
              "<IPython.core.display.Javascript object>"
            ]
          },
          "metadata": {
            "tags": []
          }
        }
      ]
    },
    {
      "cell_type": "code",
      "metadata": {
        "colab": {
          "base_uri": "https://localhost:8080/"
        },
        "id": "E4JDsdtvHop_",
        "outputId": "d284ac52-fed6-48ea-f9df-62cf3a3bffe8"
      },
      "source": [
        "print(transcription_2)"
      ],
      "execution_count": 37,
      "outputs": [
        {
          "output_type": "stream",
          "text": [
            "ID SOME GOD RULED IF THE KNOWLEDGE OF THESE POOR PEOPLE WAS SO LIMITED ABOUT LTHEIR RULER I WHO AM INFINITELY LITTER IN RESPECT TO GOD THEN THEIL DO THEIR RULER NEED NOT BE SURPRISED IF I DO NOT REALIZE THE PRESENCE OF GOD THE KING OF KINGS NEVERTHELESS I DO FEEL AS THE POOR RELITERS FAILT ABOUT MY SWOD THAT THERE IS ORDERLINESS IN THE UNIVERSE THERE IS AN UNALTERABLE LAW GOVERNING EVERYTHING AND EVERY BEING THAT EXISTS OR LIVES IT IS NOT A BLIND LAW FOR NO BLIND LAW CAND GOVERN THE CONDUCT OF LIVING BEINGS AND THANKS TO THE MARVELLOUS RESURCHES OF THAT DEASY BOTH IT CAN NOW BE PROVED THAT EVEN MATTER IS LIFE THAT LAW THEN WHICH GOVERNS ALL LIFE IS GOD LAW AND THE LAWGIVER\n"
          ],
          "name": "stdout"
        }
      ]
    },
    {
      "cell_type": "code",
      "metadata": {
        "id": "EL1R1hYxwrJP",
        "colab": {
          "base_uri": "https://localhost:8080/"
        },
        "outputId": "fb0d09a4-8f34-4016-d192-0f7717a5ca3d"
      },
      "source": [
        "print(transcription_3)"
      ],
      "execution_count": 42,
      "outputs": [
        {
          "output_type": "stream",
          "text": [
            "AR ONE I MAY NOT DENY THE LAW OR DHE LOGIVER BECAUSE I KNOW SO LITTLE ABOUT IT OR HIM JUST AS MY DENIAL OR IGNORANCE OF THE EXISTENCE OF AN EARTHLY POWER WILL AVAIL ME NOTHING EVEN SO MY DENIAL OF GOD AND HIS LAW WILL NOT ELIBERATE ME FROM ITS OPPARITION WHEREAS HUMBLE AND MUTE ACCEPTANCE OF DIVINE AUTHORITY MAKES LIFE JOURNEY EASIER EVEN AS THE ACCEPTANCE OF EARTHLY RULE MAKES LIFE UNDER IT EASIER I DO DIMLY PERCEIVE THAT WHILE EVERYTHING AROUND ME IS EVER CHANGING EVER DYING THEREIS UNDERLYING ALL THAT CAN IT LVING POWER THAT IT CHANGELESS THAT HOLDS ALL TOGETHER THAT CREAKES TELONG\n"
          ],
          "name": "stdout"
        }
      ]
    },
    {
      "cell_type": "code",
      "metadata": {
        "id": "CLsiUEeeTq6L",
        "colab": {
          "base_uri": "https://localhost:8080/"
        },
        "outputId": "f0e0098e-99ca-4bb2-b9f2-985d6b8ff0bd"
      },
      "source": [
        "print(transcription_4)"
      ],
      "execution_count": 47,
      "outputs": [
        {
          "output_type": "stream",
          "text": [
            "AND RECRIATE THAT INFORMING POWER OR SPIRIT IS GOD AND SINCE NOTHING ELSE THAT I SEE MERELY THROUGH THE SINSES CAN OR WILL PERSIST HE ALONE IS AND IS THIS POWER BENEVOLENT OR MENEVOLENT I SEE IT AS PURELY BENEVOLENT GOD I CAN SEE THAT IN THE MIDST OF THIS LIFE PERSSE IN THE MIDST OF UNTRUTH TRUTH PERSISEDIN THE MIDST OF DARKNESS LIFE PERSISED HINCE I GATHER THAT GOD IS LIFE TRUTH LIFE HE IS LOVE HE IS THE SUPREME GOOD BUT HE IS NO GOD WHO MERELY SATISFIES THE INTELLECT IF HE EVER DOES GOD TO BE GOD MUST TE RULE THE HEART AND TRANSFORM IT HE MUST EXPRESS HIMSELF IS\n"
          ],
          "name": "stdout"
        }
      ]
    },
    {
      "cell_type": "code",
      "metadata": {
        "id": "9MeSu4k7Tq72",
        "colab": {
          "base_uri": "https://localhost:8080/"
        },
        "outputId": "97e2cc30-2012-40da-e3c2-0e1ed8a5a138"
      },
      "source": [
        "print(transcription_5)"
      ],
      "execution_count": 52,
      "outputs": [
        {
          "output_type": "stream",
          "text": [
            "N EVERY SMALLEST ACT OF HIS GOODERY THIS CAN ONLY BE DONE THROUGH A DEFINITE REALIZATION MORE REAL THEN THE FIVE SENSES CAN EVER PROVE USE SINCE PERCEPTIONS CAN BE AND OFTEN OUR FAULSE AND DECEPTIVE HOWEVER REAL THEY MAY APPEAR TO US WHERE THERE IS REALIZATION OUTSIDE THE SENSES IT IS INFARIBLE IT IS PROVED NOT BY EXTREME EXTRENIOUS EVIDEN BUT IN THE TRANSFORMED CONDUCT AND CHARACTER OF THOSE WHO HAVE FELT THE REAL PRESENCE OF GOD WITHIN SUCH TESTIMONY IS TO BE FOUND IN THE EXPERIENSES OF AN UNBROKEN LINE OF PROFITS AND SEDIES IN ALL COUNTRIES AND CLIME TO REJECT THIS EVIDENCE IS TO DENY VEN\n"
          ],
          "name": "stdout"
        }
      ]
    },
    {
      "cell_type": "code",
      "metadata": {
        "id": "iJeh1DJxTq9v",
        "colab": {
          "base_uri": "https://localhost:8080/"
        },
        "outputId": "9cd6c32e-9cb9-449a-9c29-429ac4f1550f"
      },
      "source": [
        "print(transcription_6)"
      ],
      "execution_count": 57,
      "outputs": [
        {
          "output_type": "stream",
          "text": [
            "SELF THIS REALIZATION IS PRECEDED BY AN IMMOVABLE FAITH HE WHO WOULD IN HIS OWN PERSON TS THE FACT OF GOD'S PRISON CAN DO SO BY A LIVING FAITH AND SINCE FASH ITSELF CAN NOT BE PROVED BY EXTRENIOUS EVIDENCE THE FIFEST CAUSE IS TO BELIEVE IN THE MORAL GOVERNMENT OF THE WORLD AND THEREFORE IN THE SUPREMACY OF THE MORAL LAW THE LAW OF TRUTH AND LOVE EXERCISE OF FAIH WILL BE THE FAFAITH WHERE THERE IS I CERE DETERMINATION SUMMARLY TO REDICT ALL THAT IS CONTRARY TO TRUTH AND LOE I CONFESS THAT I HAVE NO ARGUMENT TO CONVINCE THROUGH REASON FIS TRANTINGS REASON ALL AS I CAN ADVISE IS NOT TO ATTEND TO THE IMPOSSIBLE\n"
          ],
          "name": "stdout"
        }
      ]
    },
    {
      "cell_type": "code",
      "metadata": {
        "id": "7FJt8HeFTvBA",
        "colab": {
          "base_uri": "https://localhost:8080/"
        },
        "outputId": "e9637a39-a046-4767-e8ff-9caac0f68020"
      },
      "source": [
        "print(transcription_7)"
      ],
      "execution_count": 62,
      "outputs": [
        {
          "output_type": "stream",
          "text": [
            "\n"
          ],
          "name": "stdout"
        }
      ]
    },
    {
      "cell_type": "code",
      "metadata": {
        "id": "Kt_0XvEmTwAr"
      },
      "source": [
        "full_text = transcription_1 + transcription_2 + transcription_3 + transcription_4 + transcription_5 + transcription_6 + transcription_7"
      ],
      "execution_count": 64,
      "outputs": []
    },
    {
      "cell_type": "code",
      "metadata": {
        "colab": {
          "base_uri": "https://localhost:8080/"
        },
        "id": "oBmEizySjCl-",
        "outputId": "e969b5ff-fcf7-44b6-c8f6-4595c97709ad"
      },
      "source": [
        "print(full_text)"
      ],
      "execution_count": 65,
      "outputs": [
        {
          "output_type": "stream",
          "text": [
            "THERE IS AN INDEFINABLE MYSTERIOUS POWER THAT PERVADES EVERYTHING I FEEL IT THOUGH I DO NOT SEE IT IT IS THIS UNSEEN POWER WHICH MAKES ITSELF FELT AND YET DEFIIS ALL PRUE BECAURSE IT IS SO UNLIKE ALL THAT I PERCEIVE THROUGH MY SENSES IT TRANSCENDS THE SENSES BUT IT IS POSSIBLE TO RISEN OUT THE EXISTENCE OF GOD TO A LIMITED EXTENT EVEN IN ORDINARY AFFAIRS WE KNOW THAT PEOPLE DO NOT KNOW WHO RULES OR WHY AND HOW HE RLE AND YET THEY KNOW THAT THERE IS A POWER THAT CERTAINLY RULE IN MY TOR LAST YEAR IN MY SOUR I MIT MANY POOR VILLAGERS AND I HOUND UPON INQUIRY THAT THEY DID NOT KNOW WHO RULE MY SOLF THEY SIMPLY SID SOME GOD RULED IF THE KNOWLEDGE OF THESE POOR PEOPLE WAS SO LIMITED ABOUT LTHEIR RULER I WHO AM INFINITELY LITTER IN RESPECT TO GOD THEN THEIL DO THEIR RULER NEED NOT BE SURPRISED IF I DO NOT REALIZE THE PRESENCE OF GOD THE KING OF KINGS NEVERTHELESS I DO FEEL AS THE POOR RELITERS FAILT ABOUT MY SWOD THAT THERE IS ORDERLINESS IN THE UNIVERSE THERE IS AN UNALTERABLE LAW GOVERNING EVERYTHING AND EVERY BEING THAT EXISTS OR LIVES IT IS NOT A BLIND LAW FOR NO BLIND LAW CAND GOVERN THE CONDUCT OF LIVING BEINGS AND THANKS TO THE MARVELLOUS RESURCHES OF THAT DEASY BOTH IT CAN NOW BE PROVED THAT EVEN MATTER IS LIFE THAT LAW THEN WHICH GOVERNS ALL LIFE IS GOD LAW AND THE LAWGIVERAR ONE I MAY NOT DENY THE LAW OR DHE LOGIVER BECAUSE I KNOW SO LITTLE ABOUT IT OR HIM JUST AS MY DENIAL OR IGNORANCE OF THE EXISTENCE OF AN EARTHLY POWER WILL AVAIL ME NOTHING EVEN SO MY DENIAL OF GOD AND HIS LAW WILL NOT ELIBERATE ME FROM ITS OPPARITION WHEREAS HUMBLE AND MUTE ACCEPTANCE OF DIVINE AUTHORITY MAKES LIFE JOURNEY EASIER EVEN AS THE ACCEPTANCE OF EARTHLY RULE MAKES LIFE UNDER IT EASIER I DO DIMLY PERCEIVE THAT WHILE EVERYTHING AROUND ME IS EVER CHANGING EVER DYING THEREIS UNDERLYING ALL THAT CAN IT LVING POWER THAT IT CHANGELESS THAT HOLDS ALL TOGETHER THAT CREAKES TELONGAND RECRIATE THAT INFORMING POWER OR SPIRIT IS GOD AND SINCE NOTHING ELSE THAT I SEE MERELY THROUGH THE SINSES CAN OR WILL PERSIST HE ALONE IS AND IS THIS POWER BENEVOLENT OR MENEVOLENT I SEE IT AS PURELY BENEVOLENT GOD I CAN SEE THAT IN THE MIDST OF THIS LIFE PERSSE IN THE MIDST OF UNTRUTH TRUTH PERSISEDIN THE MIDST OF DARKNESS LIFE PERSISED HINCE I GATHER THAT GOD IS LIFE TRUTH LIFE HE IS LOVE HE IS THE SUPREME GOOD BUT HE IS NO GOD WHO MERELY SATISFIES THE INTELLECT IF HE EVER DOES GOD TO BE GOD MUST TE RULE THE HEART AND TRANSFORM IT HE MUST EXPRESS HIMSELF ISN EVERY SMALLEST ACT OF HIS GOODERY THIS CAN ONLY BE DONE THROUGH A DEFINITE REALIZATION MORE REAL THEN THE FIVE SENSES CAN EVER PROVE USE SINCE PERCEPTIONS CAN BE AND OFTEN OUR FAULSE AND DECEPTIVE HOWEVER REAL THEY MAY APPEAR TO US WHERE THERE IS REALIZATION OUTSIDE THE SENSES IT IS INFARIBLE IT IS PROVED NOT BY EXTREME EXTRENIOUS EVIDEN BUT IN THE TRANSFORMED CONDUCT AND CHARACTER OF THOSE WHO HAVE FELT THE REAL PRESENCE OF GOD WITHIN SUCH TESTIMONY IS TO BE FOUND IN THE EXPERIENSES OF AN UNBROKEN LINE OF PROFITS AND SEDIES IN ALL COUNTRIES AND CLIME TO REJECT THIS EVIDENCE IS TO DENY VENSELF THIS REALIZATION IS PRECEDED BY AN IMMOVABLE FAITH HE WHO WOULD IN HIS OWN PERSON TS THE FACT OF GOD'S PRISON CAN DO SO BY A LIVING FAITH AND SINCE FASH ITSELF CAN NOT BE PROVED BY EXTRENIOUS EVIDENCE THE FIFEST CAUSE IS TO BELIEVE IN THE MORAL GOVERNMENT OF THE WORLD AND THEREFORE IN THE SUPREMACY OF THE MORAL LAW THE LAW OF TRUTH AND LOVE EXERCISE OF FAIH WILL BE THE FAFAITH WHERE THERE IS I CERE DETERMINATION SUMMARLY TO REDICT ALL THAT IS CONTRARY TO TRUTH AND LOE I CONFESS THAT I HAVE NO ARGUMENT TO CONVINCE THROUGH REASON FIS TRANTINGS REASON ALL AS I CAN ADVISE IS NOT TO ATTEND TO THE IMPOSSIBLE\n"
          ],
          "name": "stdout"
        }
      ]
    }
  ]
}